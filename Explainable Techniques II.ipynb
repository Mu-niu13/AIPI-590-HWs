{
  "cells": [
    {
      "cell_type": "markdown",
      "metadata": {
        "id": "fu6zl_sShXHm"
      },
      "source": [
        "# AIPI 590 - XAI | Assignment #00\n",
        "### Description\n",
        "### Mu Niu\n",
        "\n",
        "[![Open In Collab](https://colab.research.google.com/assets/colab-badge.svg)](https://colab.research.google.com/github/Mu-niu13/AIPI-590-HWs/blob/main/Explainable%20Techniques%20II.ipynb)"
      ]
    },
    {
      "cell_type": "code",
      "source": [],
      "metadata": {
        "id": "thDWEZHOhru_"
      },
      "execution_count": null,
      "outputs": []
    }
  ],
  "metadata": {
    "language_info": {
      "name": "python"
    },
    "colab": {
      "provenance": []
    }
  },
  "nbformat": 4,
  "nbformat_minor": 0
}