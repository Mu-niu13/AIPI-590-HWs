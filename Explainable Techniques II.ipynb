{
  "cells": [
    {
      "cell_type": "markdown",
      "metadata": {
        "id": "6W0crHo9fx_f"
      },
      "source": [
        "# AIPI 590 - XAI | Explainable Techniques II\n",
        "\n",
        "### Mu Niu\n",
        "\n",
        "\n",
        "\n",
        "[![Open In Collab](https://colab.research.google.com/assets/colab-badge.svg)](https://colab.research.google.com/github/Mu-niu13/AIPI-590-HWs/blob/main/Explainable%20Techniques%20II.ipynb)\n",
        "\n",
        "\n",
        "Claude 4 is used to help with coding of this assignment, while interpretation on the results is my own words."
      ]
    }
  ],
  "metadata": {
    "language_info": {
      "name": "python"
    },
    "colab": {
      "provenance": []
    }
  },
  "nbformat": 4,
  "nbformat_minor": 0
}